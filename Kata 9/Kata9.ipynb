{
 "cells": [
  {
   "cell_type": "markdown",
   "metadata": {},
   "source": [
    "# Kata 9"
   ]
  },
  {
   "cell_type": "markdown",
   "metadata": {},
   "source": [
    "### Ejercicio 1"
   ]
  },
  {
   "cell_type": "markdown",
   "metadata": {},
   "source": [
    "Los argumentos requeridos en las funciones se utilizan cuando las funciones necesitan que esos argumentos funcionen correctamente. En este ejercicio, construirás un informe de combustible que requiere información de varias ubicaciones de combustible en todo el cohete.\n",
    "\n",
    "Comienza por crear una función que necesite tres lecturas de combustible y devuelva un informe:"
   ]
  },
  {
   "cell_type": "code",
   "execution_count": 30,
   "metadata": {},
   "outputs": [],
   "source": [
    "### tipos de tanque en un cohete https://es.wikipedia.org/wiki/Tanque_externo_(transbordador_espacial)#:~:text=Tiene%20tres%20componentes%20principales%3A,larga%2C%20aunque%20es%20relativamente%20ligera.\n",
    "\n",
    "\n",
    "def report (firstTank, secondTank, thirdTank):\n",
    "    total = (firstTank + secondTank + thirdTank) / 3\n",
    "    return f\"\"\"Fuel Report:\n",
    "    Total Average:                 {total}%\n",
    "    higher Tank (Oxygen):          {firstTank}%\n",
    "    intermediate tank (external):  {secondTank}%\n",
    "    lower tank (hydrogen):         {thirdTank}% \n",
    "    \"\"\""
   ]
  },
  {
   "cell_type": "markdown",
   "metadata": {},
   "source": [
    "Ahora que hemos definido la función de informes, vamos a comprobarlo. Para esta misión, los tanques no están llenos:"
   ]
  },
  {
   "cell_type": "code",
   "execution_count": 31,
   "metadata": {},
   "outputs": [
    {
     "name": "stdout",
     "output_type": "stream",
     "text": [
      "Fuel Report:\n",
      "    Total Average:                 78.33333333333333%\n",
      "    higher Tank (Oxygen):          80%\n",
      "    intermediate tank (external):  70%\n",
      "    lower tank (hydrogen):         85% \n",
      "    \n"
     ]
    }
   ],
   "source": [
    "print(report(80,70,85))"
   ]
  },
  {
   "cell_type": "markdown",
   "metadata": {},
   "source": [
    "En lugar de simplemente crear el informe, la función también está calculando el promedio. Mejora la legibilidad extrayendo el cálculo promedio de la función en una nueva función para que el promedio se pueda hacer de forma independiente:"
   ]
  },
  {
   "cell_type": "code",
   "execution_count": 32,
   "metadata": {},
   "outputs": [
    {
     "data": {
      "text/plain": [
       "82.0"
      ]
     },
     "execution_count": 32,
     "metadata": {},
     "output_type": "execute_result"
    }
   ],
   "source": [
    "def average (val):\n",
    "    total = sum(val)\n",
    "    Items = len(val)\n",
    "    return total / Items\n",
    "\n",
    "average([80, 85, 81])"
   ]
  },
  {
   "cell_type": "markdown",
   "metadata": {},
   "source": [
    "Ahora actualiza la función de informes para llamando a la nueva función del promedio:"
   ]
  },
  {
   "cell_type": "code",
   "execution_count": 33,
   "metadata": {},
   "outputs": [
    {
     "name": "stdout",
     "output_type": "stream",
     "text": [
      "Fuel Report:\n",
      "    total = 234.0%\n",
      "    higher Tank (Oxygen):          88%\n",
      "    intermediate tank (external):  76%\n",
      "    lower tank (hydrogen):         70% \n",
      "    \n"
     ]
    }
   ],
   "source": [
    "def report (firstTank, secondTank, thirdTank):\n",
    "    return f\"\"\"Fuel Report:\n",
    "    total = {average([firstTank + secondTank + thirdTank])}%\n",
    "    higher Tank (Oxygen):          {firstTank}%\n",
    "    intermediate tank (external):  {secondTank}%\n",
    "    lower tank (hydrogen):         {thirdTank}% \n",
    "    \"\"\"\n",
    "\n",
    "print(report(88,76,70))"
   ]
  },
  {
   "cell_type": "markdown",
   "metadata": {},
   "source": [
    "### Ejercicio 2"
   ]
  },
  {
   "cell_type": "markdown",
   "metadata": {},
   "source": [
    "En este ejercicio, construirás un informe de cohete que requiere varias piezas de información, como el tiempo hasta el destino, el combustible a la izquierda y el nombre del destino. Comienza por crear una función que creará un informe preciso de la misión:"
   ]
  },
  {
   "cell_type": "code",
   "execution_count": 29,
   "metadata": {},
   "outputs": [
    {
     "name": "stdout",
     "output_type": "stream",
     "text": [
      " Ship Report:\n",
      "    Destination name:   Mars  \n",
      "    Destination time:   65 minutes\n",
      "    Fuel left:          500000 gallons  \n",
      "    \n"
     ]
    }
   ],
   "source": [
    "def reportShip(launch, timeFlight, destination, firstTank, secondTank):\n",
    "    return f\"\"\" Ship Report:\n",
    "    Destination name:   {destination}  \n",
    "    Destination time:   {launch + timeFlight} minutes\n",
    "    Fuel left:          {firstTank + secondTank} gallons  \n",
    "    \"\"\"\n",
    "\n",
    "print(reportShip(14, 51, 'Mars', 200000, 300000))"
   ]
  },
  {
   "cell_type": "markdown",
   "metadata": {},
   "source": [
    "La función es problemática porque no se puede adaptar para minutos adicionales o tanques adicionales de combustible. Hazlo más flexible permitiendo cualquier número de pasos basados en el tiempo y cualquier número de tanques. En lugar de usar *args y **kwargs, aprovecha el hecho de que puedes usar cualquier nombre que desees. Asegurate que la función sea más legible mediante el uso de nombres de variables que están asociados con las entradas, como *minutes y **fuel_reservoirs:"
   ]
  },
  {
   "cell_type": "code",
   "execution_count": 35,
   "metadata": {},
   "outputs": [
    {
     "name": "stdout",
     "output_type": "stream",
     "text": [
      " Ship Report\n",
      "    Destination name:    Mars\n",
      "    Destination time:    76 minutes\n",
      "    Fuel left:           500000 gallons\n",
      "    \n"
     ]
    }
   ],
   "source": [
    "def reportShip(destination, *minutes, **fuel_reservoirs):\n",
    "    return f\"\"\" Ship Report\n",
    "    Destination name:    {destination}\n",
    "    Destination time:    {sum(minutes)} minutes\n",
    "    Fuel left:           {sum(fuel_reservoirs.values())} gallons\n",
    "    \"\"\"\n",
    "\n",
    "print(reportShip(\"Mars\", 10, 15, 51, first=300000, second=200000))"
   ]
  },
  {
   "cell_type": "markdown",
   "metadata": {},
   "source": [
    "Debido a que el combustible que queda en los tanques es específico de cada tanque, actualiza la función para usar el nombre de cada tanque en el informe:"
   ]
  },
  {
   "cell_type": "code",
   "execution_count": 37,
   "metadata": {},
   "outputs": [
    {
     "name": "stdout",
     "output_type": "stream",
     "text": [
      " \n",
      "    Ship Report\n",
      "    Destination name:    Mars\n",
      "    Destination time:    76 minutes\n",
      "    Fuel left:           500000 gallons\n",
      "    first tank -----> 300000 gallons left \n",
      " second tank -----> 200000 gallons left \n",
      " \n"
     ]
    }
   ],
   "source": [
    "def reportShip(destination, *minutes, **fuel_reservoirs):\n",
    "    report = f\"\"\" \n",
    "    Ship Report\n",
    "    Destination name:    {destination}\n",
    "    Destination time:    {sum(minutes)} minutes\n",
    "    Fuel left:           {sum(fuel_reservoirs.values())} gallons\n",
    "    \"\"\"\n",
    "    for tankName, gallons in fuel_reservoirs.items():\n",
    "        report += f\"{tankName} tank -----> {gallons} gallons left \\n \"\n",
    "    return report\n",
    "\n",
    "\n",
    "print(reportShip(\"Mars\", 10, 15, 51, first=300000, second=200000))"
   ]
  }
 ],
 "metadata": {
  "interpreter": {
   "hash": "6c0e88d521e9cb65a8c79a7d1e49c4422ab26551aec07c29fbe2d88890fdb182"
  },
  "kernelspec": {
   "display_name": "Python 3.10.2 64-bit (windows store)",
   "language": "python",
   "name": "python3"
  },
  "language_info": {
   "codemirror_mode": {
    "name": "ipython",
    "version": 3
   },
   "file_extension": ".py",
   "mimetype": "text/x-python",
   "name": "python",
   "nbconvert_exporter": "python",
   "pygments_lexer": "ipython3",
   "version": "3.10.2"
  },
  "orig_nbformat": 4
 },
 "nbformat": 4,
 "nbformat_minor": 2
}
